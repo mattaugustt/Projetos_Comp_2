{
  "cells": [
    {
      "cell_type": "markdown",
      "metadata": {
        "colab_type": "text",
        "id": "view-in-github"
      },
      "source": [
        "<a href=\"https://colab.research.google.com/github/mattaugustt/Projetos_Comp_2/blob/main/Comanda_Digital_Comp_2.ipynb\" target=\"_parent\"><img src=\"https://colab.research.google.com/assets/colab-badge.svg\" alt=\"Open In Colab\"/></a>"
      ]
    },
    {
      "cell_type": "markdown",
      "metadata": {
        "id": "4UcElJ6aw2Jy"
      },
      "source": [
        "# Aluno: <br>\n",
        "Matheus Augusto de Souza. <br>\n",
        "<br>\n",
        "\n",
        "# Email: <br>\n",
        "mataugusto1999@gmail.com"
      ]
    },
    {
      "cell_type": "markdown",
      "metadata": {
        "id": "FQ6EJ2JWg_l3"
      },
      "source": [
        "# Montar uma comanda virtual para um estabelecimento.\n",
        "<br>\n",
        "\n",
        "Análise feita no python, porém como o produto é um arquivo csv, pode ser feita no excel etc.\n"
      ]
    },
    {
      "cell_type": "code",
      "execution_count": 15,
      "metadata": {
        "id": "Uw04NnMkgylw"
      },
      "outputs": [],
      "source": [
        "import csv\n",
        "import os\n",
        "\n",
        "\n",
        "# Classe para abrir o arquivo:\n",
        "class Arquivo():\n",
        "  def abre_arq(self, comanda, cliente):\n",
        "    # Verifica se o arquivo já existe\n",
        "    if not os.path.isfile(f'{comanda}.csv'):\n",
        "        # Se não existir, escreve o cabeçalho\n",
        "        with open(f'{comanda}.csv', 'a', newline='', encoding='utf-8') as arquivo:\n",
        "            w = csv.writer(arquivo)\n",
        "            w.writerow(['Nome', 'Produto', 'Valor'])  # Cabeçalho\n",
        "\n",
        "    # Abre o arquivo para adicionar os dados do cliente\n",
        "    with open(f'{comanda}.csv', 'a', newline='', encoding='utf-8') as arquivo:\n",
        "        w = csv.writer(arquivo)\n",
        "        w.writerow([cliente.nome, cliente.produto, cliente.val])\n",
        "\n",
        "# Classe para abrir uma comanda:\n",
        "class Comanda():\n",
        "  def __init__(self, numero):\n",
        "    self.numero = numero\n",
        "\n",
        "\n",
        "# Abrindo uma nova comanda para cliente:\n",
        "class Cliente(Comanda):\n",
        "  def __init__(self, numero, nome, produto, val_produto):\n",
        "    Comanda.__init__(self, numero)\n",
        "    self.nome = nome\n",
        "    self.produto = produto\n",
        "    self.val = val_produto\n",
        "\n",
        "  def add_comanda(self):\n",
        "    #cria e adiciona os produtos a comanda, junto dos atributos\n",
        "    arquivo = Arquivo()\n",
        "    arquivo.abre_arq(self.numero, self)\n",
        "\n",
        "  def total_comanda(self):\n",
        "    with open(f'{self.numero}.csv', 'r', newline='', encoding='utf-8') as arquivo:\n",
        "      # Lê o arquivo CSV usando o módulo csv\n",
        "      leitor = csv.reader(arquivo)\n",
        "      next(leitor)  # Pula o cabeçalho\n",
        "      valores = []\n",
        "      for i in leitor:\n",
        "        try:\n",
        "          valor = float(i[2])  # Obtém o valor da coluna \"Valor\"\n",
        "          valores.append(valor)\n",
        "        except IndexError:\n",
        "          # Ignora linhas que não têm índice 3 (coluna \"Valor\")\n",
        "          pass\n",
        "\n",
        "    total = sum(valores)  # Calcula o total\n",
        "    print(f'Comanda: {self.numero} \\nValor Total: {total}')\n"
      ]
    },
    {
      "cell_type": "code",
      "execution_count": 16,
      "metadata": {
        "id": "YzeXsq3MhZzv"
      },
      "outputs": [],
      "source": [
        "cliente1 = Cliente(1, 'João', '1 - pizza', 48.50)"
      ]
    },
    {
      "cell_type": "code",
      "execution_count": 17,
      "metadata": {
        "id": "MaQ14WjzmLa_"
      },
      "outputs": [],
      "source": [
        "cliente1.add_comanda()"
      ]
    },
    {
      "cell_type": "code",
      "execution_count": 18,
      "metadata": {
        "id": "K9mphJ_AmN86"
      },
      "outputs": [],
      "source": [
        "cliente2 = Cliente(1, 'Matheus', '1 - Vodka', 100) #adicionando na mesma comanda:\n",
        "cliente2.add_comanda()"
      ]
    },
    {
      "cell_type": "markdown",
      "metadata": {
        "id": "-LSD9T6HAzLq"
      },
      "source": [
        "#Os valores estão errados porquê foi aumentando enquanto eu consertava."
      ]
    },
    {
      "cell_type": "code",
      "execution_count": 19,
      "metadata": {
        "colab": {
          "base_uri": "https://localhost:8080/"
        },
        "id": "tliK3Oidvz-O",
        "outputId": "49245823-e935-488c-ecea-7beaf34e3650"
      },
      "outputs": [
        {
          "name": "stdout",
          "output_type": "stream",
          "text": [
            "Comanda: 1 \n",
            "Valor Total: 148.5\n"
          ]
        }
      ],
      "source": [
        "cliente2.total_comanda()"
      ]
    },
    {
      "cell_type": "code",
      "execution_count": 20,
      "metadata": {
        "id": "mUjLKrbmApB_"
      },
      "outputs": [],
      "source": [
        "cliente3 = Cliente(1, 'Bruno', '1 - Energetico, 1 - Coca', 30)\n",
        "cliente3.add_comanda()\n",
        "\n",
        "cliente4 = Cliente(2, 'Matheus', '1 - Hamburguer', 25)\n",
        "cliente4.add_comanda()"
      ]
    },
    {
      "cell_type": "code",
      "execution_count": 21,
      "metadata": {
        "colab": {
          "base_uri": "https://localhost:8080/"
        },
        "id": "xyUxvan6AtT4",
        "outputId": "1f90e5f4-7605-4148-dfe0-41ca0153cc91"
      },
      "outputs": [
        {
          "name": "stdout",
          "output_type": "stream",
          "text": [
            "Comanda: 2 \n",
            "Valor Total: 25.0\n"
          ]
        }
      ],
      "source": [
        "cliente4.total_comanda()"
      ]
    },
    {
      "cell_type": "markdown",
      "metadata": {
        "id": "4R9cQ4qS_Atq"
      },
      "source": [
        "##testes\n",
        "c1 = Cliente(1, 'João', '1 - pizza', 48.50) <br>\n",
        "c1.add_comanda() <br>\n",
        "\n",
        "c2 = Cliente(1, 'Fernando', '1 - whisk', 150) <br>\n",
        "c2.add_comanda() <br>\n",
        "\n",
        "c3 = Cliente(1, 'Bruno', '1 - Energetico, 1 - Coca', 30) <br>\n",
        "c3.add_comanda() <br>\n",
        "\n",
        "c4 = Cliente(2, 'Matheus', '1 - Hamburguer', 25) <br>\n",
        "c4.add_comanda()\n",
        "\n",
        "##resultados\n",
        "c4.total_comanda() <br>\n",
        "Comanda: 2  <br>\n",
        "Valor Total: 25.0' <br>\n",
        "\n",
        "c1.total_comanda() <br>\n",
        "Comanda: 1 <br>\n",
        "Valor Total: 228.5'"
      ]
    }
  ],
  "metadata": {
    "colab": {
      "authorship_tag": "ABX9TyPYogLg46S42DMr3c+gv247",
      "collapsed_sections": [
        "y3nR1fq993re",
        "U07QKZsjCbzo",
        "xgaiX1eXDBpB"
      ],
      "include_colab_link": true,
      "mount_file_id": "1R1xGGE7bIQjB0UzaKBJIHfl33JSNa3KC",
      "provenance": []
    },
    "kernelspec": {
      "display_name": "Python 3",
      "name": "python3"
    },
    "language_info": {
      "codemirror_mode": {
        "name": "ipython",
        "version": 3
      },
      "file_extension": ".py",
      "mimetype": "text/x-python",
      "name": "python",
      "nbconvert_exporter": "python",
      "pygments_lexer": "ipython3",
      "version": "3.12.1"
    }
  },
  "nbformat": 4,
  "nbformat_minor": 0
}
